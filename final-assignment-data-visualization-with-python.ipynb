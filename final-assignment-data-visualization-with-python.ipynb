Create visualizations using Matplotib, Seaborn and Folium
Estimated time needed: 40 minutes

In this assignment, you will have the opportunity to demonstrate the skills you have acquired in creating visualizations using Matplotlib, Seaborn, Folium.

After each task you will be required to save your plots as an image or screenshot using the filenames specified. You will be uploading these images during your final project submission so they can be evaluated by your peers.

add Codeadd Markdown
Table of Contents
Objectives
Setup
Installing Required Libraries
Importing Required Libraries
Scenario
Data Description
Importing data
Creating Visualizations for Data Analysis
add Codeadd Markdown
Objectives
After completing this lab you will be able to:

Create informative and visually appealing plots with Matplotlib and Seaborn.
Apply visualization to communicate insights from the data.
Analyze data through using visualizations.
Customize visualizations
add Codeadd Markdown
Setup
add Codeadd Markdown
For this lab, we will be using the following libraries:

pandas for managing the data.
numpy for mathematical operations.
matplotlib for plotting.
seaborn for plotting.
Folium for plotting.
add Codeadd Markdown
Installing Required Libraries
The following required libraries are pre-installed in the Skills Network Labs environment. However, if you run these notebook commands in a different Jupyter environment (e.g. Watson Studio or Ananconda), you will need to install these libraries by removing the # sign before %pip in the code cell below.

add Codeadd Markdown
# All Libraries required for this lab are listed below. The libraries pre-installed on Skills Network Labs are commented.
# %pip install -qy pandas==1.3.4 numpy==1.21.4 matplotlib==3.5.0 seaborn folium
# Note: If your environment doesn't support "%pip install", use "!mamba install"
add Codeadd Markdown
# %pip install seaborn
# %pip install folium
add Codeadd Markdown
Importing Required Libraries
We recommend you import all required libraries in one place (here):

add Codeadd Markdown
import numpy as np
import pandas as pd
%matplotlib inline
import matplotlib as mpl
import matplotlib.pyplot as plt
import seaborn as sns
import folium
add Codeadd Markdown
Click here for a hint
add Codeadd Markdown
Click here for python solution
add Codeadd Markdown
add Codeadd Markdown
Scenario
In this assignment you will be tasked with creating plots which answer questions for analysing "historical_automobile_sales" data to understand the historical trends in automobile sales during recession periods.
recession period 1 - year 1980
recession period 2 - year 1981 to 1982
recession period 3 - year 1991
recession period 4 - year 2000 to 2001
recession period 5 - year end 2007 to mid 2009
recession period 6 - year 2020 -Feb to April (Covid-19 Impact)

Data Description
The dataset used for this visualization assignment contains historical_automobile_sales data representing automobile sales and related variables during recession and non-recession period.

The dataset includes the following variables:
1. Date: The date of the observation.
2. Recession: A binary variable indicating recession perion; 1 means it was recession, 0 means it was normal.
3. Automobile_Sales: The number of vehicles sold during the period.
4. GDP: The per capita GDP value in USD.
5. Unemployment_Rate: The monthly unemployment rate.
6. Consumer_Confidence: A synthetic index representing consumer confidence, which can impact consumer spending and automobile purchases.
7. Seasonality_Weight: The weight representing the seasonality effect on automobile sales during the period.
8. Price: The average vehicle price during the period.
9. Advertising_Expenditure: The advertising expenditure of the company.
10.Vehicle_Type: The type of vehicles sold; Supperminicar, Smallfamiliycar, Mediumfamilycar, Executivecar, Sports.
11.Competition: The measure of competition in the market, such as the number of competitors or market share of major manufacturers.
12.Month: Month of the observation extracted from Date..
13.Year: Year of the observation extracted from Date.
By examining various factors mentioned above from the dataset, you aim to gain insights into how recessions impacted automobile sales for your company.

add Codeadd Markdown
add Codeadd Markdown
Importing Data
add Codeadd Markdown
For your convenience, we have already written code to import the data below.
add Codeadd Markdown
# from js import fetch
# import io
​
URL = "https://cf-courses-data.s3.us.cloud-object-storage.appdomain.cloud/IBMDeveloperSkillsNetwork-DV0101EN-SkillsNetwork/Data%20Files/historical_automobile_sales.csv"
# resp = await fetch(URL)
# text = io.BytesIO((await resp.arrayBuffer()).to_py())
# import pandas as pd
df = pd.read_csv(URL)
print('Data downloaded and read into a dataframe!')
add Codeadd Markdown
df.describe()
add Codeadd Markdown
df.columns
add Codeadd Markdown
df.dtypes
add Codeadd Markdown
Creating Visualizations for Data Analysis
add Codeadd Markdown
TASK 1.1: Develop a Line chart using the functionality of pandas to show how automobile sales fluctuate from year to year
add Codeadd Markdown
Click here for a hint
add Codeadd Markdown
temp = df.groupby("Year")["Automobile_Sales"].sum()
temp.plot(x="Year", y="Automobile_Sales", kind="line")
plt.title("Automobile sold across the years")
plt.xlabel("Year")
plt.ylabel("Number of Automobiles")
add Codeadd Markdown
Click here for a solution template
add Codeadd Markdown
Include the following on the plot
ticks on x- axis with all the years, to identify the years of recession
annotation for at least two years of recession
Title as Automobile Sales during Recession
add Codeadd Markdown
Click here for a hint
add Codeadd Markdown
plt.figure(figsize=(10, 6))
temp.plot(x="Year", y="Automobile_Sales", kind="line")
plt.xticks(list(range(df.Year.unique().min(), df.Year.unique().max()+1)), rotation=75)
years = [1979.5, 1981.5, 1991.5, 2000.6, 2008.2, 2006.7]
texts = ["1980 Recession", 
         "1981-82 Recession", 
         "1991 Recession", 
         "2000-2001 Recession", 
         "2007-2009 Recession", 
         "2020 (Covid-19 Impact) Recession"]
positions = [(i+1)*(10**4) for i in range(len(years))]
positions = [10000, 9000, 9000, 16000, 22000, 32000]
for year, text, pos in zip(years, texts, positions):
    if year==1979.5:
        plt.text(year, pos, text, rotation=90, color="blue",
             bbox=dict(boxstyle="larrow",
                       ec=(1., 0.5, 0.5),
                       fc=(1., 0.8, 0.8)
                      )
            )
        continue
    if year==2006.7:
        plt.text(year, pos, text, rotation=-30, color="blue",
             bbox=dict(boxstyle="rarrow",
                       ec=(1., 0.5, 0.5),
                       fc=(1., 0.8, 0.8)
                      )
            )
        continue
    plt.text(year, pos, text, rotation=45, color="blue",
             bbox=dict(boxstyle="larrow",
                       ec=(1., 0.5, 0.5),
                       fc=(1., 0.8, 0.8)
                      )
            )
plt.grid()
plt.title("Automobile sold across the years")
plt.xlabel("Year")
plt.ylabel("Number of Automobiles")
add Codeadd Markdown
Click here for Solution template
add Codeadd Markdown
Save this plot as "Line_Plot_1.png"
*Hint: You can right lick on the plot and then click on "Save image as" option to save it on your local machine*
add Codeadd Markdown
add Codeadd Markdown
TASK 1.2: Plot different lines for categories of vehicle type and analyse the trend to answer the question Is there a noticeable difference in sales trends between different vehicle types during recession periods?
add Codeadd Markdown
Click here for a hint
add Codeadd Markdown
plt.figure(figsize=(10, 6))
temp = df.groupby(["Year", "Vehicle_Type"])[["Automobile_Sales"]].sum().reset_index()
temp.set_index("Year", inplace=True)
temp = temp.groupby(["Vehicle_Type"])["Automobile_Sales"]
temp.plot(kind="line")
plt.xticks(list(range(df.Year.unique().min(), df.Year.unique().max()+1)), rotation=75)
plt.grid()
plt.title("Automobile sold across the years")
plt.xlabel("Year")
plt.ylabel("Number of Automobiles")
plt.legend()
add Codeadd Markdown
Click here for Solution template
add Codeadd Markdown
From the above plot, what insights have you gained on the sales of various vehicle types?
Type in your answer below:
add Codeadd Markdown
Generally, sales volumes tend to decrease during various recessionary periods. However, certain vehicle types experience more pronounced declines than others. It is challenging to precisely elucidate the differences between these vehicle types.

add Codeadd Markdown
Inference
add Codeadd Markdown
Save this plot as "Line_Plot_2.png"
*Hint: You can right lick on the plot and then click on "Save image as" option to save it on your local machine*
add Codeadd Markdown
add Codeadd Markdown
TASK 1.3: Use the functionality of Seaborn Library to create a visualization to compare the sales trend per vehicle type for a recession period with a non-recession period.
add Codeadd Markdown
Click here for a hint
add Codeadd Markdown
temp=df.groupby(["Recession"])["Automobile_Sales"].mean().reset_index()
temp["Recession"] = temp["Recession"].replace({0:"No Recession", 1:"Recession"})
# temp
plt.figure(figsize=(10, 6))
sns.barplot(data=temp, x="Recession", y="Automobile_Sales")
plt.xlabel('Period')
plt.ylabel('Average sales')
plt.title('Average Automobile Sales during Recession and Non-Recession')
add Codeadd Markdown
Click here for Solution template
add Codeadd Markdown
Now you want to compare the sales of different vehicle types during a recession and a non-recession period

We recommend that you use the functionality of Seaborn Library to create this visualization

add Codeadd Markdown
Click here for a hint
add Codeadd Markdown
temp=df.groupby(["Vehicle_Type", "Recession"])["Automobile_Sales"].mean().reset_index()
temp["Recession"] = temp["Recession"].replace({0:"No", 1:"Yes"})
plt.figure(figsize=(10, 6))
sns.barplot(data=temp, x="Vehicle_Type", y="Automobile_Sales", hue="Recession")
plt.xlabel('VEhicle Type')
plt.ylabel('Average sales')
plt.title('Average Automobile Sales per Vehicle Type during Recession and Non-Recession')
​
add Codeadd Markdown
Click here for Solution template
add Codeadd Markdown
From the above chart what insights have you gained on the overall sales of automobiles during recession?
Type your answer below:-
add Codeadd Markdown
During Recession period the sales in average are great than No recession period. The Volume sales are slightly different between them but meddium family cars are the most sold in this period, in contrast the supperminni cars are less sold. of No Recession period are greater. In other hand during no recession period the majority types of vehicles have similar volume sales but Spórts type has "considerible" less volume sales than the others in this case. (approx. less than 50%)

add Codeadd Markdown
Inference
add Codeadd Markdown
Save this plot as "Bar_Chart.png"
*Hint: You can right lick on the plot and then click on "Save image as" option to save it on your local machine*
add Codeadd Markdown
add Codeadd Markdown
TASK 1.4: Use sub plotting to compare the variations in GDP during recession and non-recession period by developing line plots for each period.

Now, you want to find more insights from the data to understand the reason.
Plot a two line charts using subplotting to answer:-

How did the GDP vary over time during recession and non-recession periods?

Make use of add_subplot() from Matplotlib for this comparision.

add Codeadd Markdown
temp = df.groupby(["Recession","Year"])["GDP"].mean().reset_index()
no = temp[temp["Recession"] == 0]
yes = temp[temp["Recession"] == 1]
​
fig = plt.figure(figsize=(10, 6))
ax0 = fig.add_subplot(1,2,1)
ax1 = fig.add_subplot(1,2,2)
​
no.plot(x="Year", y="GDP", kind="line", ax=ax0)
ax0.set_title('GDP Variation during No Recession Period')
ax0.set_ylabel('GDP')
​
yes.plot(x="Year", y="GDP", kind="line", ax=ax1)
ax1.set_title('GDP Variation during Recession Period')
ax1.set_ylabel('GDP')
​
plt.show()
add Codeadd Markdown
Click here for Solution template
add Codeadd Markdown
Inference
From this plot, it is evident that during recession, the GDP of the country was in a low range, might have afected the overall sales of the company

Save this plot as "Subplot.png"
Hint: You can right lick on the plot and then click on "Save image as" option to save it on your local machine

add Codeadd Markdown
add Codeadd Markdown
TASK 1.5: Develop a Bubble plot for displaying the impact of seasonality on Automobile Sales.

How has seasonality impacted the sales, in which months the sales were high or low? Check it for non-recession years to understand the trend

Develop a Bubble plot for displaying Automobile Sales for every month and use Seasonality Weight for representing the size of each bubble
Title this plot as 'Seasonality impact on Automobile Sales'

add Codeadd Markdown
Click here for a hint
add Codeadd Markdown
temp = df.copy()
months=temp["Month"].unique().tolist()
# display(months)
temp["Month"] = temp["Month"].replace(dict(zip(months, range(0,len(months)))))
temp = temp.groupby("Month")[["Automobile_Sales", "Seasonality_Weight"]].mean().reset_index()
# display(temp)
plt.figure(figsize=(10, 6))
plt.xticks(ticks=range(0,len(months)),labels=months)
sns.scatterplot(data=temp,
                x='Month',
                y='Automobile_Sales',
                hue="Seasonality_Weight",
                size="Seasonality_Weight",  # pass in weights 
                #sizes=(20, 1500)
               )
plt.xlabel("Month")
plt.ylabel("Automobile Sales")
plt.title("Automobile Sales per Month according to Seasonality Weight")
plt.legend(loc="right")
add Codeadd Markdown
Click here for Solution template
add Codeadd Markdown
Inference
From this plot, it is evident that seasonality has not affected on the overall sales. However, there is a drastic raise in sales in the month of April

Save this plot as "Bubble.png"
Hint: You can right lick on the plot and then click on "Save image as" option to save it on your local machine

add Codeadd Markdown
add Codeadd Markdown
TASK 1.6: Use the functionality of Matplotlib to develop a scatter plot to identify the correlation between average vehicle price relate to the sales volume during recessions.
From the data, develop a scatter plot to identify if there a correlation between consumer confidence and automobile sales during recession period?

Title this plot as 'Consumer Confidence and Automobile Sales during Recessions'

add Codeadd Markdown
Click here for a hint
add Codeadd Markdown
plt.figure(figsize=(10, 6))
sns.scatterplot(data=df[df["Recession"]==1], x='Consumer_Confidence', y='Automobile_Sales')
plt.title("Consumer Confidence and Automobile Sales during Recessions")
plt.xlabel("Consumer Confidence")
plt.ylabel("Automobile Sales")
plt.show()
add Codeadd Markdown
Click here for Solution template
add Codeadd Markdown
How does the average vehicle price relate to the sales volume during recessions?

Plot another scatter plot and title it as 'Relationship between Average Vehicle Price and Sales during Recessions'

add Codeadd Markdown
plt.figure(figsize=(10, 6))
sns.scatterplot(data=df[df["Recession"]==1], x='Price', y='Automobile_Sales')
plt.title("Relationship between Average Vehicle Price and Sales during Recessions")
plt.xlabel("Price")
plt.ylabel("Automobile Sales")
plt.show()
add Codeadd Markdown
Click here for Solution template
add Codeadd Markdown
Inference
There is not much relation!

Save this plot as "Scatter.png"
Hint: You can right lick on the plot and then click on "Save image as" option to save it on your local machine

add Codeadd Markdown
add Codeadd Markdown
TASK 1.7: Create a pie chart to display the portion of advertising expenditure of XYZAutomotives during recession and non-recession periods.

How did the advertising expenditure of XYZAutomotives change during recession and non-recession periods?

add Codeadd Markdown
Click here for a hint
add Codeadd Markdown
temp=df.groupby("Recession")["Advertising_Expenditure"].sum()/df["Advertising_Expenditure"].sum()
temp.index=["No Recession", "Recession"]
display(temp)
temp.plot(kind="pie",
          figsize=(12, 8),
          y="Advertising_Expenditure",
          #ylabel=dict(ylabel="Advertising Expenditure",fontsize=100),
          x="Recession",
          #title="HOLA",
          autopct='%1.1f%%',
          textprops={'color':"w", "size":22},
         )
plt.ylabel(ylabel="Advertising Expenditure",fontsize=20)
plt.title(label="Advertising Expenditure during\n Recession and No Recession periods",fontsize=25)
plt.legend(fontsize=15)
plt.show()
add Codeadd Markdown
Click here for Solution template
add Codeadd Markdown
From the above plot, what insights do you find on the advertisement expenditure during recession and non recession periods?
Type your answer below:-
add Codeadd Markdown
Advertisement expenditure is considerably low in recession periods

add Codeadd Markdown
Inference
add Codeadd Markdown
Save this plot as "Pie_1.png"
*Hint: You can right lick on the plot and then click on "Save image as" option to save it on your local machine*
add Codeadd Markdown
add Codeadd Markdown
TASK 1.8: Develop a pie chart to display the total Advertisement expenditure for each vehicle type during recession period.
Can we observe the share of each vehicle type in total sales during recessions?

Create another pie plot to display the total advertisement expenditure for each vehicle type
add Codeadd Markdown
Click here for a hint
add Codeadd Markdown
temp=df[df["Recession"]==1].groupby("Vehicle_Type")["Advertising_Expenditure"].sum()
temp.plot(kind="pie",
          figsize=(12, 8),
          autopct='%1.1f%%',
          y="Advertising_Expenditure",
          textprops={'color':"w", "size":20},
         )
plt.ylabel(ylabel="Advertising Expenditure",fontsize=20)
plt.title(label="Advertising Expenditure during\n Recession period per Vehicle type",fontsize=25)
plt.legend(title="Vehicle Type", loc="best", fontsize=11)
plt.show()
add Codeadd Markdown
Click here for Solution template
add Codeadd Markdown
Inference
During recession the advertisements were mostly focued on low price range vehicle. A wise decision!

Save this plot as "Pie_2.png"
Hint: You can right lick on the plot and then click on "Save image as" option to save it on your local machine

add Codeadd Markdown
add Codeadd Markdown
TASK 1.9: Develop a countplot to analyse the effect of the unemployment rate on vehicle type and sales during the Recession Period.

Analyze the effect of the unemployment rate on vehicle type and sales during the Recession Period

You can create a countplot and title the plot as 'Effect of Unemployment Rate on Vehicle Type and Sales'
add Codeadd Markdown
Click here for a hint
add Codeadd Markdown
#df.columns
plt.figure(figsize=(10,6))
sns.countplot(data=df[df["Recession"]==1], x="unemployment_rate", hue="Vehicle_Type")
plt.xlabel("Unemployment Rate")
plt.ylabel("Count")
plt.title("Effect of Unemployment Rate on Vehicle Type and Sales")
plt.legend(loc="upper right", title="Vehicle Type")
add Codeadd Markdown
Click here for Solution template
add Codeadd Markdown
From the above plot, what insights have you gained on the sales of superminicar, smallfamilycar, mediumminicar?
Type your answer below:-
add Codeadd Markdown
For recession periods the supperminicar sales tends to be more high when the unemployment rate is low, in other hand the smallfamilycar has an opposite behavior. Finally the mediumminicar tends to be more volume sales for low unemployment rate then the supperminicar.

add Codeadd Markdown
Inference
add Codeadd Markdown
Save this plot as "count_plot.png"
*Hint: You can right lick on the plot and then click on "Save image as" option to save it on your local machine*
add Codeadd Markdown
add Codeadd Markdown
OPTIONAL : TASK 1.10 Create a map on the hightest sales region/offices of the company during recession period
add Codeadd Markdown
# from pyodide.http import pyfetch
​
# async def download(url, filename):
#     response = await pyfetch(url)
#     if response.status == 200:
#         with open(filename, "wb") as f:
#             f.write(await response.bytes())
​
# path = 'https://cf-courses-data.s3.us.cloud-object-storage.appdomain.cloud/IBMDeveloperSkillsNetwork-DV0101EN-SkillsNetwork/Data%20Files/us-states.json'
# await download(path, "us-states.json")
​
!wget https://cf-courses-data.s3.us.cloud-object-storage.appdomain.cloud/IBMDeveloperSkillsNetwork-DV0101EN-SkillsNetwork/Data%20Files/us-states.json
!head -2 us-states.json
​
filename = "us-states.json"
!head -2 us-states.json
add Codeadd Markdown
temp=pd.read_json(filename)
for row in temp["features"]:
    print(row["id"], row["properties"]["name"])
add Codeadd Markdown
df["City"].unique()
add Codeadd Markdown
You found that the datset also contains the location/city for company offices. Now you want to show the recession impact on various offices/city sales by developing a choropleth
add Codeadd Markdown
import folium
​
us_geo = r"https://cf-courses-data.s3.us.cloud-object-storage.appdomain.cloud/IBMDeveloperSkillsNetwork-DV0101EN-SkillsNetwork/Data%20Files/us-states.json"
​
temp=df[df["Recession"]==1]
​
us_map = folium.Map(location=[40.60987815505275, -100.77676139515009], zoom_start=4)
​
folium.Choropleth(
    geo_data=us_geo,
    data=temp,
    columns=['City', 'Automobile_Sales'],
    key_on='feature.properties.name',
    fill_color='YlOrRd', 
    fill_opacity=0.7, 
    line_opacity=0.2,
    legend_name='Immigration to Canada'
).add_to(us_map)
​
us_map
add Codeadd Markdown
Click for Solution
add Codeadd Markdown
# Delete json file
!rm -rf us-states.json
add Codeadd Markdown
Congratulations! You have completed the lab
add Codeadd Markdown
Authors
add Codeadd Markdown
Dr. Pooja

add Codeadd Markdown
Change Log
add Codeadd Markdown
Date (YYYY-MM-DD)	Version	Changed By	Change Description
2023-06-17	0.2	Pooja	Initial Lab Creation
2023-05-01	0.1	Shengkai	Create Lab Template
add Codeadd Markdown
Copyright © 2023 IBM Corporation. All rights reserved.

add Codeadd Markdown
